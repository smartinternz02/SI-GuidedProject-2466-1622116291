{
 "cells": [
  {
   "cell_type": "code",
   "execution_count": 1,
   "metadata": {},
   "outputs": [],
   "source": [
    "import numpy as np\n",
    "import os\n",
    "from tensorflow.keras.models import load_model\n",
    "from tensorflow.keras.preprocessing import image\n",
    "import tensorflow as tf"
   ]
  },
  {
   "cell_type": "code",
   "execution_count": 2,
   "metadata": {},
   "outputs": [],
   "source": [
    "from flask import Flask , request , render_template\n",
    "from werkzeug.utils import secure_filename\n",
    "from gevent.pywsgi import WSGIServer"
   ]
  },
  {
   "cell_type": "code",
   "execution_count": 3,
   "metadata": {},
   "outputs": [],
   "source": [
    "app = Flask(__name__)\n",
    "model = load_model(\"malaria.h5\")\n",
    "\n"
   ]
  },
  {
   "cell_type": "code",
   "execution_count": 4,
   "metadata": {},
   "outputs": [],
   "source": [
    "@app.route('/')\n",
    "def index():\n",
    "    return render_template('about.html')"
   ]
  },
  {
   "cell_type": "code",
   "execution_count": 5,
   "metadata": {},
   "outputs": [],
   "source": [
    "@app.route('/about')\n",
    "def home():\n",
    "    return render_template('about.html')"
   ]
  },
  {
   "cell_type": "code",
   "execution_count": 6,
   "metadata": {},
   "outputs": [],
   "source": [
    "@app.route('/info')\n",
    "def info():\n",
    "    return render_template('info.html')"
   ]
  },
  {
   "cell_type": "code",
   "execution_count": 7,
   "metadata": {},
   "outputs": [],
   "source": [
    "@app.route('/upload')\n",
    "def test():\n",
    "    return render_template('base.html')"
   ]
  },
  {
   "cell_type": "code",
   "execution_count": 8,
   "metadata": {},
   "outputs": [],
   "source": [
    "@app.route('/predict',methods = ['GET','POST'])\n",
    "def upload():\n",
    "    if request.method == 'POST':\n",
    "        f = request.files['image']\n",
    "        print(\"current path\")\n",
    "        basepath = os.path.dirname('__file__')\n",
    "        print(\"current path\", basepath)\n",
    "        filepath = os.path.join(basepath,'uploads',f.filename)\n",
    "        print(\"upload folder is \", filepath)\n",
    "        f.save(filepath)\n",
    "        \n",
    "        img = image.load_img(filepath,target_size = (64,64))\n",
    "        x = image.img_to_array(img)\n",
    "        x = np.expand_dims(x,axis =0)\n",
    "        preds = model.predict(x)\n",
    "        \n",
    "        print(\"prediction\",preds)\n",
    "        if (preds>0):\n",
    "            result = \"Uninfected\"\n",
    "        else:\n",
    "            result = \"Infected\"\n",
    "        \n",
    "        print(result)\n",
    "\n",
    "        return result\n",
    "        \n",
    "    return None\n",
    "        "
   ]
  },
  {
   "cell_type": "code",
   "execution_count": null,
   "metadata": {
    "scrolled": true
   },
   "outputs": [
    {
     "name": "stdout",
     "output_type": "stream",
     "text": [
      " * Serving Flask app \"__main__\" (lazy loading)\n",
      " * Environment: production\n",
      "   WARNING: This is a development server. Do not use it in a production deployment.\n",
      "   Use a production WSGI server instead.\n",
      " * Debug mode: off\n"
     ]
    },
    {
     "name": "stderr",
     "output_type": "stream",
     "text": [
      " * Running on http://127.0.0.1:5000/ (Press CTRL+C to quit)\n",
      "127.0.0.1 - - [08/Jun/2021 11:28:28] \"\u001b[37mGET / HTTP/1.1\u001b[0m\" 200 -\n",
      "127.0.0.1 - - [08/Jun/2021 11:28:28] \"\u001b[36mGET /static/css/cover.css HTTP/1.1\u001b[0m\" 304 -\n",
      "127.0.0.1 - - [08/Jun/2021 11:28:28] \"\u001b[36mGET /static/css/bootstrap.min.css HTTP/1.1\u001b[0m\" 304 -\n",
      "127.0.0.1 - - [08/Jun/2021 11:28:29] \"\u001b[33mGET /favicon.ico HTTP/1.1\u001b[0m\" 404 -\n",
      "127.0.0.1 - - [08/Jun/2021 11:28:57] \"\u001b[37mGET /upload HTTP/1.1\u001b[0m\" 200 -\n",
      "127.0.0.1 - - [08/Jun/2021 11:28:57] \"\u001b[36mGET /static/js/main.js HTTP/1.1\u001b[0m\" 304 -\n",
      "127.0.0.1 - - [08/Jun/2021 11:28:57] \"\u001b[36mGET /static/css/main.css HTTP/1.1\u001b[0m\" 304 -\n"
     ]
    },
    {
     "name": "stdout",
     "output_type": "stream",
     "text": [
      "current path\n",
      "current path \n",
      "upload folder is  uploads\\C37BP2_thinF_IMG_20150620_132847a_cell_76.png\n"
     ]
    },
    {
     "name": "stderr",
     "output_type": "stream",
     "text": [
      "127.0.0.1 - - [08/Jun/2021 11:31:10] \"\u001b[37mPOST /predict HTTP/1.1\u001b[0m\" 200 -\n"
     ]
    },
    {
     "name": "stdout",
     "output_type": "stream",
     "text": [
      "prediction [[0.]]\n",
      "Infected\n"
     ]
    },
    {
     "name": "stderr",
     "output_type": "stream",
     "text": [
      "127.0.0.1 - - [08/Jun/2021 11:31:24] \"\u001b[37mGET /upload HTTP/1.1\u001b[0m\" 200 -\n",
      "127.0.0.1 - - [08/Jun/2021 11:31:44] \"\u001b[37mPOST /predict HTTP/1.1\u001b[0m\" 200 -\n"
     ]
    },
    {
     "name": "stdout",
     "output_type": "stream",
     "text": [
      "current path\n",
      "current path \n",
      "upload folder is  uploads\\C100P61ThinF_IMG_20150918_144348_cell_144.png\n",
      "prediction [[0.]]\n",
      "Infected\n"
     ]
    },
    {
     "name": "stderr",
     "output_type": "stream",
     "text": [
      "127.0.0.1 - - [08/Jun/2021 11:33:55] \"\u001b[37mPOST /predict HTTP/1.1\u001b[0m\" 200 -\n"
     ]
    },
    {
     "name": "stdout",
     "output_type": "stream",
     "text": [
      "current path\n",
      "current path \n",
      "upload folder is  uploads\\C100P61ThinF_IMG_20150918_144823_cell_161.png\n",
      "prediction [[0.]]\n",
      "Infected\n"
     ]
    },
    {
     "name": "stderr",
     "output_type": "stream",
     "text": [
      "127.0.0.1 - - [08/Jun/2021 11:35:08] \"\u001b[37mPOST /predict HTTP/1.1\u001b[0m\" 200 -\n"
     ]
    },
    {
     "name": "stdout",
     "output_type": "stream",
     "text": [
      "current path\n",
      "current path \n",
      "upload folder is  uploads\\C100P61ThinF_IMG_20150918_144104_cell_164.png\n",
      "prediction [[0.]]\n",
      "Infected\n"
     ]
    },
    {
     "name": "stderr",
     "output_type": "stream",
     "text": [
      "127.0.0.1 - - [08/Jun/2021 12:00:56] \"\u001b[37mGET / HTTP/1.1\u001b[0m\" 200 -\n",
      "127.0.0.1 - - [08/Jun/2021 12:01:00] \"\u001b[37mGET /info HTTP/1.1\u001b[0m\" 200 -\n",
      "127.0.0.1 - - [08/Jun/2021 12:01:01] \"\u001b[36mGET /static/js/bootstrap.bundle.min.js HTTP/1.1\u001b[0m\" 304 -\n",
      "127.0.0.1 - - [08/Jun/2021 12:01:11] \"\u001b[37mGET /upload HTTP/1.1\u001b[0m\" 200 -\n"
     ]
    },
    {
     "name": "stdout",
     "output_type": "stream",
     "text": [
      "current path\n",
      "current path \n",
      "upload folder is  uploads\\C100P61ThinF_IMG_20150918_144104_cell_21.png\n"
     ]
    },
    {
     "name": "stderr",
     "output_type": "stream",
     "text": [
      "127.0.0.1 - - [08/Jun/2021 12:01:30] \"\u001b[37mPOST /predict HTTP/1.1\u001b[0m\" 200 -\n"
     ]
    },
    {
     "name": "stdout",
     "output_type": "stream",
     "text": [
      "prediction [[0.]]\n",
      "Infected\n"
     ]
    },
    {
     "name": "stderr",
     "output_type": "stream",
     "text": [
      "127.0.0.1 - - [08/Jun/2021 12:01:43] \"\u001b[37mPOST /predict HTTP/1.1\u001b[0m\" 200 -\n"
     ]
    },
    {
     "name": "stdout",
     "output_type": "stream",
     "text": [
      "current path\n",
      "current path \n",
      "upload folder is  uploads\\C100P61ThinF_IMG_20150918_144104_cell_163.png\n",
      "prediction [[0.]]\n",
      "Infected\n"
     ]
    },
    {
     "name": "stderr",
     "output_type": "stream",
     "text": [
      "127.0.0.1 - - [08/Jun/2021 12:03:51] \"\u001b[37mGET /about HTTP/1.1\u001b[0m\" 200 -\n",
      "127.0.0.1 - - [08/Jun/2021 12:10:59] \"\u001b[37mGET /upload HTTP/1.1\u001b[0m\" 200 -\n",
      "127.0.0.1 - - [08/Jun/2021 12:11:09] \"\u001b[37mPOST /predict HTTP/1.1\u001b[0m\" 200 -\n"
     ]
    },
    {
     "name": "stdout",
     "output_type": "stream",
     "text": [
      "current path\n",
      "current path \n",
      "upload folder is  uploads\\C100P61ThinF_IMG_20150918_144348_cell_144.png\n",
      "prediction [[0.]]\n",
      "Infected\n"
     ]
    },
    {
     "name": "stderr",
     "output_type": "stream",
     "text": [
      "127.0.0.1 - - [08/Jun/2021 12:11:25] \"\u001b[37mGET /about HTTP/1.1\u001b[0m\" 200 -\n",
      "127.0.0.1 - - [08/Jun/2021 12:11:30] \"\u001b[37mGET /info HTTP/1.1\u001b[0m\" 200 -\n",
      "127.0.0.1 - - [08/Jun/2021 12:12:09] \"\u001b[37mGET /upload HTTP/1.1\u001b[0m\" 200 -\n",
      "127.0.0.1 - - [08/Jun/2021 12:12:24] \"\u001b[37mPOST /predict HTTP/1.1\u001b[0m\" 200 -\n"
     ]
    },
    {
     "name": "stdout",
     "output_type": "stream",
     "text": [
      "current path\n",
      "current path \n",
      "upload folder is  uploads\\C100P61ThinF_IMG_20150918_144348_cell_144.png\n",
      "prediction [[0.]]\n",
      "Infected\n"
     ]
    },
    {
     "name": "stderr",
     "output_type": "stream",
     "text": [
      "127.0.0.1 - - [08/Jun/2021 12:16:56] \"\u001b[37mGET /about HTTP/1.1\u001b[0m\" 200 -\n",
      "127.0.0.1 - - [08/Jun/2021 12:17:41] \"\u001b[37mGET /upload HTTP/1.1\u001b[0m\" 200 -\n",
      "127.0.0.1 - - [08/Jun/2021 12:18:27] \"\u001b[37mGET /about HTTP/1.1\u001b[0m\" 200 -\n",
      "127.0.0.1 - - [08/Jun/2021 12:31:30] \"\u001b[37mGET / HTTP/1.1\u001b[0m\" 200 -\n",
      "127.0.0.1 - - [08/Jun/2021 12:32:54] \"\u001b[37mGET /info HTTP/1.1\u001b[0m\" 200 -\n",
      "127.0.0.1 - - [08/Jun/2021 12:34:53] \"\u001b[37mGET /upload HTTP/1.1\u001b[0m\" 200 -\n",
      "127.0.0.1 - - [08/Jun/2021 12:35:27] \"\u001b[37mPOST /predict HTTP/1.1\u001b[0m\" 200 -\n"
     ]
    },
    {
     "name": "stdout",
     "output_type": "stream",
     "text": [
      "current path\n",
      "current path \n",
      "upload folder is  uploads\\C33P1thinF_IMG_20150619_121229a_cell_178.png\n",
      "prediction [[0.]]\n",
      "Infected\n"
     ]
    },
    {
     "name": "stderr",
     "output_type": "stream",
     "text": [
      "127.0.0.1 - - [08/Jun/2021 12:35:55] \"\u001b[37mPOST /predict HTTP/1.1\u001b[0m\" 200 -\n"
     ]
    },
    {
     "name": "stdout",
     "output_type": "stream",
     "text": [
      "current path\n",
      "current path \n",
      "upload folder is  uploads\\C100P61ThinF_IMG_20150918_144348_cell_144.png\n",
      "prediction [[0.]]\n",
      "Infected\n"
     ]
    },
    {
     "name": "stderr",
     "output_type": "stream",
     "text": [
      "127.0.0.1 - - [08/Jun/2021 12:37:14] \"\u001b[37mPOST /predict HTTP/1.1\u001b[0m\" 200 -\n"
     ]
    },
    {
     "name": "stdout",
     "output_type": "stream",
     "text": [
      "current path\n",
      "current path \n",
      "upload folder is  uploads\\C100P61ThinF_IMG_20150918_144348_cell_144.png\n",
      "prediction [[0.]]\n",
      "Infected\n"
     ]
    },
    {
     "name": "stderr",
     "output_type": "stream",
     "text": [
      "127.0.0.1 - - [08/Jun/2021 12:40:19] \"\u001b[37mGET /about HTTP/1.1\u001b[0m\" 200 -\n",
      "127.0.0.1 - - [08/Jun/2021 12:40:29] \"\u001b[37mGET /info HTTP/1.1\u001b[0m\" 200 -\n",
      "127.0.0.1 - - [08/Jun/2021 12:40:57] \"\u001b[37mGET /upload HTTP/1.1\u001b[0m\" 200 -\n",
      "127.0.0.1 - - [08/Jun/2021 13:00:35] \"\u001b[37mGET /about HTTP/1.1\u001b[0m\" 200 -\n",
      "127.0.0.1 - - [08/Jun/2021 13:00:47] \"\u001b[37mGET /info HTTP/1.1\u001b[0m\" 200 -\n",
      "127.0.0.1 - - [08/Jun/2021 13:01:03] \"\u001b[37mGET /info HTTP/1.1\u001b[0m\" 200 -\n",
      "127.0.0.1 - - [08/Jun/2021 13:01:26] \"\u001b[37mGET /upload HTTP/1.1\u001b[0m\" 200 -\n"
     ]
    },
    {
     "name": "stdout",
     "output_type": "stream",
     "text": [
      "current path\n",
      "current path \n",
      "upload folder is  uploads\\C100P61ThinF_IMG_20150918_144104_cell_167.png\n"
     ]
    },
    {
     "name": "stderr",
     "output_type": "stream",
     "text": [
      "127.0.0.1 - - [08/Jun/2021 13:01:38] \"\u001b[37mPOST /predict HTTP/1.1\u001b[0m\" 200 -\n"
     ]
    },
    {
     "name": "stdout",
     "output_type": "stream",
     "text": [
      "prediction [[0.]]\n",
      "Infected\n"
     ]
    }
   ],
   "source": [
    "if __name__ == '__main__':\n",
    "    app.run()"
   ]
  },
  {
   "cell_type": "code",
   "execution_count": null,
   "metadata": {},
   "outputs": [],
   "source": []
  },
  {
   "cell_type": "code",
   "execution_count": null,
   "metadata": {},
   "outputs": [],
   "source": []
  }
 ],
 "metadata": {
  "kernelspec": {
   "display_name": "Python 3",
   "language": "python",
   "name": "python3"
  },
  "language_info": {
   "codemirror_mode": {
    "name": "ipython",
    "version": 3
   },
   "file_extension": ".py",
   "mimetype": "text/x-python",
   "name": "python",
   "nbconvert_exporter": "python",
   "pygments_lexer": "ipython3",
   "version": "3.7.3"
  }
 },
 "nbformat": 4,
 "nbformat_minor": 2
}

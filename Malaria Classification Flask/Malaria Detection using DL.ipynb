{
 "cells": [
  {
   "cell_type": "code",
   "execution_count": 1,
   "metadata": {},
   "outputs": [],
   "source": [
    "from tensorflow.keras.models import Sequential\n",
    "from tensorflow.keras.layers import Dense\n",
    "from tensorflow.keras.layers import Convolution2D\n",
    "from tensorflow.keras.layers import MaxPooling2D\n",
    "from tensorflow.keras.layers import Flatten\n",
    "from tensorflow.keras.layers import Dropout"
   ]
  },
  {
   "cell_type": "code",
   "execution_count": 2,
   "metadata": {},
   "outputs": [],
   "source": [
    "from keras.preprocessing.image import ImageDataGenerator"
   ]
  },
  {
   "cell_type": "code",
   "execution_count": 3,
   "metadata": {},
   "outputs": [],
   "source": [
    "train_datagen = ImageDataGenerator(rescale = 1./255,shear_range = 0.2,zoom_range = 0.2,horizontal_flip = True)\n",
    "test_datagen = ImageDataGenerator(rescale = 1./255)"
   ]
  },
  {
   "cell_type": "code",
   "execution_count": 4,
   "metadata": {},
   "outputs": [],
   "source": [
    "import numpy as np"
   ]
  },
  {
   "cell_type": "code",
   "execution_count": 5,
   "metadata": {},
   "outputs": [
    {
     "name": "stdout",
     "output_type": "stream",
     "text": [
      "Found 27557 images belonging to 2 classes.\n",
      "Found 27557 images belonging to 2 classes.\n"
     ]
    }
   ],
   "source": [
    "train_data_generator = train_datagen.flow_from_directory(r\"C:\\Users\\user\\Desktop\\cell_images\",target_size = (64,64),batch_size = 16, class_mode = \"binary\" )\n",
    "validation_data_generator = test_datagen.flow_from_directory(r\"C:\\Users\\user\\Desktop\\cell_images\",target_size = (64,64),batch_size = 16, class_mode = \"binary\")"
   ]
  },
  {
   "cell_type": "code",
   "execution_count": 6,
   "metadata": {},
   "outputs": [],
   "source": [
    "model = Sequential()"
   ]
  },
  {
   "cell_type": "code",
   "execution_count": 7,
   "metadata": {},
   "outputs": [],
   "source": [
    "model.add(Convolution2D(16,(3,3),input_shape = (64,64,3),activation = \"relu\"))"
   ]
  },
  {
   "cell_type": "code",
   "execution_count": 8,
   "metadata": {},
   "outputs": [],
   "source": [
    "model.add(MaxPooling2D(2,2))"
   ]
  },
  {
   "cell_type": "code",
   "execution_count": 9,
   "metadata": {},
   "outputs": [],
   "source": [
    "model.add(Dropout(0.2))"
   ]
  },
  {
   "cell_type": "code",
   "execution_count": 10,
   "metadata": {},
   "outputs": [],
   "source": [
    "model.add(Convolution2D(32,(3,3),activation = \"relu\"))"
   ]
  },
  {
   "cell_type": "code",
   "execution_count": 11,
   "metadata": {},
   "outputs": [],
   "source": [
    "model.add(MaxPooling2D(2,2))"
   ]
  },
  {
   "cell_type": "code",
   "execution_count": 12,
   "metadata": {},
   "outputs": [],
   "source": [
    "model.add(Dropout(0.3))"
   ]
  },
  {
   "cell_type": "code",
   "execution_count": 13,
   "metadata": {},
   "outputs": [],
   "source": [
    "model.add(Flatten())"
   ]
  },
  {
   "cell_type": "code",
   "execution_count": 14,
   "metadata": {},
   "outputs": [],
   "source": [
    "model.add(Dense(64,activation = \"relu\"))"
   ]
  },
  {
   "cell_type": "code",
   "execution_count": 15,
   "metadata": {},
   "outputs": [],
   "source": [
    "model.add(Dropout(0.5))"
   ]
  },
  {
   "cell_type": "code",
   "execution_count": 16,
   "metadata": {},
   "outputs": [],
   "source": [
    "model.add(Dense(units= 1,activation = \"sigmoid\",kernel_initializer = \"random_uniform\"))"
   ]
  },
  {
   "cell_type": "code",
   "execution_count": 17,
   "metadata": {},
   "outputs": [],
   "source": [
    "model.compile(\"adam\",loss = \"binary_crossentropy\",metrics = [\"accuracy\"])"
   ]
  },
  {
   "cell_type": "code",
   "execution_count": 18,
   "metadata": {},
   "outputs": [
    {
     "name": "stdout",
     "output_type": "stream",
     "text": [
      "WARNING:tensorflow:From <ipython-input-18-85bcc1563a54>:1: Model.fit_generator (from tensorflow.python.keras.engine.training) is deprecated and will be removed in a future version.\n",
      "Instructions for updating:\n",
      "Please use Model.fit, which supports generators.\n",
      "Epoch 1/25\n",
      "47/47 [==============================] - 31s 664ms/step - loss: 0.7044 - accuracy: 0.4734 - val_loss: 0.6931 - val_accuracy: 0.4836\n",
      "Epoch 2/25\n",
      "47/47 [==============================] - 29s 626ms/step - loss: 0.6928 - accuracy: 0.5040 - val_loss: 0.6930 - val_accuracy: 0.5691\n",
      "Epoch 3/25\n",
      "47/47 [==============================] - 30s 638ms/step - loss: 0.6899 - accuracy: 0.5332 - val_loss: 0.6927 - val_accuracy: 0.5822\n",
      "Epoch 4/25\n",
      "47/47 [==============================] - 26s 562ms/step - loss: 0.6923 - accuracy: 0.5372 - val_loss: 0.6860 - val_accuracy: 0.5263\n",
      "Epoch 5/25\n",
      "47/47 [==============================] - 26s 562ms/step - loss: 0.6889 - accuracy: 0.5160 - val_loss: 0.6901 - val_accuracy: 0.5691\n",
      "Epoch 6/25\n",
      "47/47 [==============================] - 27s 576ms/step - loss: 0.6813 - accuracy: 0.5598 - val_loss: 0.6908 - val_accuracy: 0.5066\n",
      "Epoch 7/25\n",
      "47/47 [==============================] - 26s 547ms/step - loss: 0.6772 - accuracy: 0.5678 - val_loss: 0.6750 - val_accuracy: 0.5625\n",
      "Epoch 8/25\n",
      "47/47 [==============================] - 25s 528ms/step - loss: 0.6824 - accuracy: 0.6104 - val_loss: 0.6728 - val_accuracy: 0.6513\n",
      "Epoch 9/25\n",
      "47/47 [==============================] - 27s 572ms/step - loss: 0.6937 - accuracy: 0.5120 - val_loss: 0.6844 - val_accuracy: 0.6776\n",
      "Epoch 10/25\n",
      "47/47 [==============================] - 25s 541ms/step - loss: 0.6701 - accuracy: 0.6303 - val_loss: 0.6390 - val_accuracy: 0.6711\n",
      "Epoch 11/25\n",
      "47/47 [==============================] - 25s 529ms/step - loss: 0.6513 - accuracy: 0.6449 - val_loss: 0.6497 - val_accuracy: 0.5987\n",
      "Epoch 12/25\n",
      "47/47 [==============================] - 25s 542ms/step - loss: 0.6178 - accuracy: 0.6609 - val_loss: 0.5847 - val_accuracy: 0.7039\n",
      "Epoch 13/25\n",
      "47/47 [==============================] - 24s 515ms/step - loss: 0.6536 - accuracy: 0.6503 - val_loss: 0.6208 - val_accuracy: 0.6974\n",
      "Epoch 14/25\n",
      "47/47 [==============================] - 24s 516ms/step - loss: 0.6148 - accuracy: 0.6569 - val_loss: 0.5942 - val_accuracy: 0.7533\n",
      "Epoch 15/25\n",
      "47/47 [==============================] - 26s 544ms/step - loss: 0.6187 - accuracy: 0.6941 - val_loss: 0.6133 - val_accuracy: 0.6612\n",
      "Epoch 16/25\n",
      "47/47 [==============================] - 24s 500ms/step - loss: 0.5961 - accuracy: 0.7181 - val_loss: 0.6084 - val_accuracy: 0.6842\n",
      "Epoch 17/25\n",
      "47/47 [==============================] - 24s 512ms/step - loss: 0.5980 - accuracy: 0.7340 - val_loss: 0.5766 - val_accuracy: 0.7664\n",
      "Epoch 18/25\n",
      "47/47 [==============================] - 24s 508ms/step - loss: 0.5799 - accuracy: 0.7460 - val_loss: 0.4975 - val_accuracy: 0.7928\n",
      "Epoch 19/25\n",
      "47/47 [==============================] - 24s 506ms/step - loss: 0.5474 - accuracy: 0.7646 - val_loss: 0.4741 - val_accuracy: 0.7993\n",
      "Epoch 20/25\n",
      "47/47 [==============================] - 23s 481ms/step - loss: 0.5189 - accuracy: 0.7965 - val_loss: 0.3753 - val_accuracy: 0.8618\n",
      "Epoch 21/25\n",
      "47/47 [==============================] - 22s 458ms/step - loss: 0.5213 - accuracy: 0.8072 - val_loss: 0.3500 - val_accuracy: 0.8849\n",
      "Epoch 22/25\n",
      "47/47 [==============================] - 22s 469ms/step - loss: 0.4179 - accuracy: 0.8577 - val_loss: 0.3732 - val_accuracy: 0.8553\n",
      "Epoch 23/25\n",
      "47/47 [==============================] - 21s 457ms/step - loss: 0.3922 - accuracy: 0.8471 - val_loss: 0.3392 - val_accuracy: 0.8980\n",
      "Epoch 24/25\n",
      "47/47 [==============================] - 21s 455ms/step - loss: 0.4488 - accuracy: 0.8245 - val_loss: 0.3844 - val_accuracy: 0.8684\n",
      "Epoch 25/25\n",
      "47/47 [==============================] - 22s 458ms/step - loss: 0.3990 - accuracy: 0.8777 - val_loss: 0.2628 - val_accuracy: 0.9178\n"
     ]
    }
   ],
   "source": [
    "history = model.fit_generator(train_data_generator,steps_per_epoch = 47,epochs = 25,validation_data = validation_data_generator,validation_steps = 19)"
   ]
  },
  {
   "cell_type": "code",
   "execution_count": 19,
   "metadata": {},
   "outputs": [],
   "source": [
    "model.save('malaria.h5')"
   ]
  },
  {
   "cell_type": "code",
   "execution_count": null,
   "metadata": {},
   "outputs": [],
   "source": []
  }
 ],
 "metadata": {
  "kernelspec": {
   "display_name": "Python 3",
   "language": "python",
   "name": "python3"
  },
  "language_info": {
   "codemirror_mode": {
    "name": "ipython",
    "version": 3
   },
   "file_extension": ".py",
   "mimetype": "text/x-python",
   "name": "python",
   "nbconvert_exporter": "python",
   "pygments_lexer": "ipython3",
   "version": "3.8.8"
  }
 },
 "nbformat": 4,
 "nbformat_minor": 2
}
